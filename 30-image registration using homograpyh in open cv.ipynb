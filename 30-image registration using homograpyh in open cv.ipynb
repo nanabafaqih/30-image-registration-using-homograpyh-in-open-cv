{
 "cells": [
  {
   "cell_type": "code",
   "execution_count": 8,
   "id": "e2f2ed0e",
   "metadata": {},
   "outputs": [],
   "source": [
    "import numpy as np\n",
    "import cv2"
   ]
  },
  {
   "cell_type": "code",
   "execution_count": 9,
   "id": "3a576655",
   "metadata": {},
   "outputs": [],
   "source": [
    "im1 = cv2.imread('1.jpg')\n",
    "im2 = cv2.imread('2.jpg')\n"
   ]
  },
  {
   "cell_type": "code",
   "execution_count": 10,
   "id": "fc5b0cdf",
   "metadata": {},
   "outputs": [],
   "source": [
    "img1 = cv2.cvtColor(im1, cv2.COLOR_BGR2GRAY)\n",
    "img2 = cv2.cvtColor(im2, cv2.COLOR_BGR2GRAY)"
   ]
  },
  {
   "cell_type": "code",
   "execution_count": 11,
   "id": "8ad61a6b",
   "metadata": {},
   "outputs": [],
   "source": [
    "#initiate ORB\n",
    "orb = cv2.ORB_create(50)\n",
    "\n",
    "kp1, des1 = orb.detectAndCompute(img1, None)\n",
    "kp2, des2 = orb.detectAndCompute(img2, None)\n",
    "\n",
    "#img3 = cv2.drawKeypoints(img1, kp1, None, flags=None)\n",
    "#img4 = cv2.drawKeypoints(img2, kp2, None, flags=None)"
   ]
  },
  {
   "cell_type": "code",
   "execution_count": 14,
   "id": "278ed019",
   "metadata": {},
   "outputs": [
    {
     "name": "stdout",
     "output_type": "stream",
     "text": [
      "(< cv2.KeyPoint 00000192D38D48A0>, < cv2.KeyPoint 00000192D37D3C60>, < cv2.KeyPoint 00000192D37D3EA0>, < cv2.KeyPoint 00000192D3390450>, < cv2.KeyPoint 00000192D3390F00>, < cv2.KeyPoint 00000192D33902A0>, < cv2.KeyPoint 00000192D1AE2D20>, < cv2.KeyPoint 00000192D37C11B0>, < cv2.KeyPoint 00000192D371D960>, < cv2.KeyPoint 00000192D3879A20>, < cv2.KeyPoint 00000192D38791E0>, < cv2.KeyPoint 00000192D3869780>, < cv2.KeyPoint 00000192D3869390>, < cv2.KeyPoint 00000192D3360AB0>, < cv2.KeyPoint 00000192D3360480>, < cv2.KeyPoint 00000192D3360300>, < cv2.KeyPoint 00000192D3360750>, < cv2.KeyPoint 00000192D33602D0>, < cv2.KeyPoint 00000192D33602A0>, < cv2.KeyPoint 00000192D3360B40>, < cv2.KeyPoint 00000192D3360D80>, < cv2.KeyPoint 00000192D3360210>, < cv2.KeyPoint 00000192D3360FC0>, < cv2.KeyPoint 00000192D3360DE0>, < cv2.KeyPoint 00000192D3360960>, < cv2.KeyPoint 00000192D33606C0>, < cv2.KeyPoint 00000192D3360F90>, < cv2.KeyPoint 00000192D33601B0>, < cv2.KeyPoint 00000192D3360ED0>, < cv2.KeyPoint 00000192D3360E70>, < cv2.KeyPoint 00000192D33605D0>, < cv2.KeyPoint 00000192D3360E40>, < cv2.KeyPoint 00000192D3360600>, < cv2.KeyPoint 00000192D3360630>, < cv2.KeyPoint 00000192D3360570>, < cv2.KeyPoint 00000192D33604E0>, < cv2.KeyPoint 00000192D3360660>, < cv2.KeyPoint 00000192D3360540>, < cv2.KeyPoint 00000192D3360720>, < cv2.KeyPoint 00000192D3360870>, < cv2.KeyPoint 00000192D3360BD0>, < cv2.KeyPoint 00000192D3360C60>, < cv2.KeyPoint 00000192D33608A0>, < cv2.KeyPoint 00000192D3360A80>, < cv2.KeyPoint 00000192D33603C0>, < cv2.KeyPoint 00000192D3360C00>, < cv2.KeyPoint 00000192D3360CC0>, < cv2.KeyPoint 00000192D3360990>, < cv2.KeyPoint 00000192D33601E0>, < cv2.KeyPoint 00000192D3360CF0>)\n",
      "[[312.48    234.72002]\n",
      " [600.1829  540.46326]\n",
      " [613.44    480.96002]\n",
      " [540.46326 355.33218]\n",
      " [599.04004 534.24005]\n",
      " [542.4539  355.82983]\n",
      " [640.      461.     ]\n",
      " [613.44006 480.38403]\n",
      " [615.8593  479.00168]\n",
      " [600.      535.2    ]\n",
      " [543.28326 358.73285]\n",
      " [323.48166 259.20004]\n",
      " [542.88    361.44   ]\n",
      " [543.      363.     ]\n",
      " [601.      535.     ]\n",
      " [542.4     362.40002]\n",
      " [324.      259.2    ]\n",
      " [311.04004 233.28003]\n",
      " [614.4     481.2    ]\n",
      " [487.      613.     ]\n",
      " [366.33603 235.00803]\n",
      " [320.99335 258.78534]\n",
      " [311.04004 234.31683]\n",
      " [329.65274 265.15546]\n",
      " [614.6152  477.75757]\n",
      " [423.      592.     ]\n",
      " [551.81    490.8959 ]\n",
      " [487.2     612.     ]\n",
      " [652.80005 499.2    ]\n",
      " [292.032   254.01602]\n",
      " [614.      482.     ]\n",
      " [488.16003 612.     ]\n",
      " [308.55176 231.41382]\n",
      " [491.      602.     ]\n",
      " [249.6     255.6    ]\n",
      " [487.29605 609.9841 ]\n",
      " [251.      256.     ]\n",
      " [422.40002 591.60004]\n",
      " [489.36966 611.7121 ]\n",
      " [328.4583  265.75266]\n",
      " [653.      500.     ]\n",
      " [324.      259.2    ]\n",
      " [447.89774 283.07138]\n",
      " [324.      259.     ]\n",
      " [492.48004 608.25604]\n",
      " [367.2     234.72002]\n",
      " [447.8977  283.66855]\n",
      " [493.2     608.4    ]\n",
      " [657.      488.     ]\n",
      " [492.48    609.12   ]]\n"
     ]
    }
   ],
   "source": [
    "matcher = cv2.DescriptorMatcher_create(cv2.DESCRIPTOR_MATCHER_BRUTEFORCE_HAMMING)\n",
    "\n",
    "#MATCH DESCRIPTORS\n",
    "matches = matcher.match(des1, des2,None)\n",
    "matches = sorted(matches, key = lambda x:x.distance)\n",
    "\n",
    "points1 = np.zeros((len(matches), 2), dtype=np.float32)\n",
    "points2 = np.zeros((len(matches), 2), dtype=np.float32)\n",
    "\n",
    "for i, match in enumerate(matches):\n",
    "    points1[i, :] = kp1[match.queryIdx].pt\n",
    "    points2[i, :] = kp2[match.trainIdx].pt\n",
    "print(kp1)\n",
    "print(points1)\n",
    "\n"
   ]
  },
  {
   "cell_type": "code",
   "execution_count": 18,
   "id": "0702b641",
   "metadata": {},
   "outputs": [
    {
     "data": {
      "text/plain": [
       "-1"
      ]
     },
     "execution_count": 18,
     "metadata": {},
     "output_type": "execute_result"
    }
   ],
   "source": [
    "#Use homography\n",
    "h, mask = cv2.findHomography(points1, points2, cv2.RANSAC)\n",
    "height , width, channels= im2.shape\n",
    "\n",
    "im1Reg = cv2.warpPerspective(im1, h, (width, height))\n",
    "img3 = cv2.drawMatches(im1,kp1,im2,kp2,matches[:10],None)\n",
    "cv2.imshow('keypoints matches', img3)\n",
    "cv2.imshow('registered',im1Reg)\n",
    "cv2.waitKey(0)"
   ]
  },
  {
   "cell_type": "code",
   "execution_count": null,
   "id": "99284f95",
   "metadata": {},
   "outputs": [],
   "source": []
  }
 ],
 "metadata": {
  "kernelspec": {
   "display_name": "Python 3 (ipykernel)",
   "language": "python",
   "name": "python3"
  },
  "language_info": {
   "codemirror_mode": {
    "name": "ipython",
    "version": 3
   },
   "file_extension": ".py",
   "mimetype": "text/x-python",
   "name": "python",
   "nbconvert_exporter": "python",
   "pygments_lexer": "ipython3",
   "version": "3.9.12"
  }
 },
 "nbformat": 4,
 "nbformat_minor": 5
}
